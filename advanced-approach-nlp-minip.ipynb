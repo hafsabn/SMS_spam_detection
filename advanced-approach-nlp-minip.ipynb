{
 "cells": [
  {
   "cell_type": "code",
   "execution_count": 43,
   "id": "8669d531-56d0-4c20-bb6e-7e11b0a8cf97",
   "metadata": {
    "execution": {
     "iopub.execute_input": "2025-05-03T10:26:30.046844Z",
     "iopub.status.busy": "2025-05-03T10:26:30.046574Z",
     "iopub.status.idle": "2025-05-03T10:26:30.051377Z",
     "shell.execute_reply": "2025-05-03T10:26:30.050875Z",
     "shell.execute_reply.started": "2025-05-03T10:26:30.046823Z"
    }
   },
   "outputs": [],
   "source": [
    "import pandas as pd\n",
    "import numpy as np\n",
    "import matplotlib.pyplot as plt\n",
    "import seaborn as sns\n",
    "from sklearn.model_selection import train_test_split\n",
    "from sklearn.metrics import classification_report, confusion_matrix, accuracy_score\n",
    "import torch\n",
    "from torch.utils.data import Dataset, DataLoader\n",
    "from transformers import BertTokenizer, BertForSequenceClassification, get_linear_schedule_with_warmup\n",
    "from torch.optim import AdamW  \n",
    "import warnings\n",
    "warnings.filterwarnings('ignore')"
   ]
  },
  {
   "cell_type": "code",
   "execution_count": 50,
   "id": "52cd6da1-cb3a-4b40-86f9-e75503d8562b",
   "metadata": {
    "execution": {
     "iopub.execute_input": "2025-05-03T10:30:01.849108Z",
     "iopub.status.busy": "2025-05-03T10:30:01.848220Z",
     "iopub.status.idle": "2025-05-03T10:30:04.962297Z",
     "shell.execute_reply": "2025-05-03T10:30:04.961518Z",
     "shell.execute_reply.started": "2025-05-03T10:30:01.849078Z"
    }
   },
   "outputs": [
    {
     "name": "stderr",
     "output_type": "stream",
     "text": [
      "huggingface/tokenizers: The current process just got forked, after parallelism has already been used. Disabling parallelism to avoid deadlocks...\n",
      "To disable this warning, you can either:\n",
      "\t- Avoid using `tokenizers` before the fork if possible\n",
      "\t- Explicitly set the environment variable TOKENIZERS_PARALLELISM=(true | false)\n"
     ]
    }
   ],
   "source": [
    "!pip install -q transformers"
   ]
  },
  {
   "cell_type": "markdown",
   "id": "9d9e05f7-1759-4709-a85c-8d0d2a0d56aa",
   "metadata": {},
   "source": [
    "# Load the data\n"
   ]
  },
  {
   "cell_type": "code",
   "execution_count": 44,
   "id": "366e64c8-d9d0-4906-a480-f0697ed67ecc",
   "metadata": {
    "execution": {
     "iopub.execute_input": "2025-05-03T10:26:45.286183Z",
     "iopub.status.busy": "2025-05-03T10:26:45.285905Z",
     "iopub.status.idle": "2025-05-03T10:26:45.317198Z",
     "shell.execute_reply": "2025-05-03T10:26:45.316669Z",
     "shell.execute_reply.started": "2025-05-03T10:26:45.286161Z"
    }
   },
   "outputs": [
    {
     "name": "stdout",
     "output_type": "stream",
     "text": [
      "Loading the dataset...\n",
      "Dataset shape: (5169, 2)\n"
     ]
    }
   ],
   "source": [
    "print(\"Loading the dataset...\")\n",
    "data = pd.read_csv('/kaggle/input/dataset-10/cleaned_data.csv', encoding='latin-1')\n",
    "print(f\"Dataset shape: {data.shape}\")"
   ]
  },
  {
   "cell_type": "markdown",
   "id": "3b1e812b-13ea-4026-9d15-e0bf066cca13",
   "metadata": {},
   "source": [
    "# Display first few rows\n"
   ]
  },
  {
   "cell_type": "code",
   "execution_count": 45,
   "id": "6ebb4264-6b9b-4a74-93ca-77f6ab0aa1c6",
   "metadata": {
    "execution": {
     "iopub.execute_input": "2025-05-03T10:27:17.804927Z",
     "iopub.status.busy": "2025-05-03T10:27:17.804666Z",
     "iopub.status.idle": "2025-05-03T10:27:17.810664Z",
     "shell.execute_reply": "2025-05-03T10:27:17.809974Z",
     "shell.execute_reply.started": "2025-05-03T10:27:17.804909Z"
    }
   },
   "outputs": [
    {
     "name": "stdout",
     "output_type": "stream",
     "text": [
      "\n",
      "First few rows of the dataset:\n",
      "   Label                                              email\n",
      "0      0  Go until jurong point, crazy.. Available only ...\n",
      "1      0                      Ok lar... Joking wif u oni...\n",
      "2      1  Free entry in 2 a wkly comp to win FA Cup fina...\n",
      "3      0  U dun say so early hor... U c already then say...\n",
      "4      0  Nah I don't think he goes to usf, he lives aro...\n"
     ]
    }
   ],
   "source": [
    "print(\"\\nFirst few rows of the dataset:\")\n",
    "print(data.head())"
   ]
  },
  {
   "cell_type": "markdown",
   "id": "35239dab-82e4-4c54-80c9-e015faa134ba",
   "metadata": {},
   "source": [
    "# Class distribution\n"
   ]
  },
  {
   "cell_type": "code",
   "execution_count": 46,
   "id": "fe2a9e35-8a7c-4662-a253-d5ffb7196447",
   "metadata": {
    "execution": {
     "iopub.execute_input": "2025-05-03T10:27:54.538874Z",
     "iopub.status.busy": "2025-05-03T10:27:54.538288Z",
     "iopub.status.idle": "2025-05-03T10:27:54.545796Z",
     "shell.execute_reply": "2025-05-03T10:27:54.545028Z",
     "shell.execute_reply.started": "2025-05-03T10:27:54.538852Z"
    }
   },
   "outputs": [
    {
     "name": "stdout",
     "output_type": "stream",
     "text": [
      "\n",
      "Class distribution:\n",
      "Label\n",
      "0    4516\n",
      "1     653\n",
      "Name: count, dtype: int64\n",
      "Class distribution percentage:\n",
      "Label\n",
      "0    87.366996\n",
      "1    12.633004\n",
      "Name: proportion, dtype: float64\n"
     ]
    }
   ],
   "source": [
    "print(\"\\nClass distribution:\")\n",
    "class_counts = data['Label'].value_counts()\n",
    "print(class_counts)\n",
    "print(\"Class distribution percentage:\")\n",
    "print(data['Label'].value_counts(normalize=True) * 100)"
   ]
  },
  {
   "cell_type": "code",
   "execution_count": 47,
   "id": "bc55ad35-b1d8-4567-8eac-565585f80b8f",
   "metadata": {
    "execution": {
     "iopub.execute_input": "2025-05-03T10:28:05.758549Z",
     "iopub.status.busy": "2025-05-03T10:28:05.758262Z",
     "iopub.status.idle": "2025-05-03T10:28:05.871053Z",
     "shell.execute_reply": "2025-05-03T10:28:05.870497Z",
     "shell.execute_reply.started": "2025-05-03T10:28:05.758526Z"
    }
   },
   "outputs": [
    {
     "data": {
      "image/png": "[encoded data removed]",
      "text/plain": [
       "<Figure size 800x600 with 1 Axes>"
      ]
     },
     "metadata": {},
     "output_type": "display_data"
    }
   ],
   "source": [
    "# Visualize class distribution\n",
    "plt.figure(figsize=(8, 6))\n",
    "sns.countplot(x='Label', data=data)\n",
    "plt.title('Class Distribution: Ham (0) vs Spam (1)')\n",
    "plt.xlabel('Class')\n",
    "plt.ylabel('Count')\n",
    "plt.xticks([0, 1], ['Ham (0)', 'Spam (1)'])\n",
    "plt.show()"
   ]
  },
  {
   "cell_type": "markdown",
   "id": "07d43405-292c-472b-bf87-eb8fb8e87654",
   "metadata": {},
   "source": [
    "# Prepare data"
   ]
  },
  {
   "cell_type": "code",
   "execution_count": 48,
   "id": "d2b8b242-f3a2-442a-b666-2a84f1d850af",
   "metadata": {
    "execution": {
     "iopub.execute_input": "2025-05-03T10:29:08.981917Z",
     "iopub.status.busy": "2025-05-03T10:29:08.981603Z",
     "iopub.status.idle": "2025-05-03T10:29:08.991073Z",
     "shell.execute_reply": "2025-05-03T10:29:08.990376Z",
     "shell.execute_reply.started": "2025-05-03T10:29:08.981893Z"
    }
   },
   "outputs": [],
   "source": [
    "X = data['email']\n",
    "y = data['Label']\n",
    "# Split the data\n",
    "X_train, X_test, y_train, y_test = train_test_split(X, y, test_size=0.2, random_state=42, stratify=y)"
   ]
  },
  {
   "cell_type": "code",
   "execution_count": 51,
   "id": "92c9bdb2-c900-4f41-b5a6-8bc1ed13fe20",
   "metadata": {
    "execution": {
     "iopub.execute_input": "2025-05-03T10:30:16.473143Z",
     "iopub.status.busy": "2025-05-03T10:30:16.472792Z",
     "iopub.status.idle": "2025-05-03T10:30:16.482011Z",
     "shell.execute_reply": "2025-05-03T10:30:16.481015Z",
     "shell.execute_reply.started": "2025-05-03T10:30:16.473114Z"
    }
   },
   "outputs": [
    {
     "name": "stdout",
     "output_type": "stream",
     "text": [
      "\n",
      "Training set size: 4135\n",
      "Test set size: 1034\n",
      "Training class distribution: Label\n",
      "0    3613\n",
      "1     522\n",
      "Name: count, dtype: int64\n",
      "Testing class distribution: Label\n",
      "0    903\n",
      "1    131\n",
      "Name: count, dtype: int64\n"
     ]
    }
   ],
   "source": [
    "print(f\"\\nTraining set size: {X_train.shape[0]}\")\n",
    "print(f\"Test set size: {X_test.shape[0]}\")\n",
    "print(f\"Training class distribution: {pd.Series(y_train).value_counts()}\")\n",
    "print(f\"Testing class distribution: {pd.Series(y_test).value_counts()}\")"
   ]
  },
  {
   "cell_type": "markdown",
   "id": "383a7640-abc8-4ea8-ac0f-9d7fb72f59e8",
   "metadata": {},
   "source": [
    "# Create a PyTorch dataset for the BERT model\n"
   ]
  },
  {
   "cell_type": "code",
   "execution_count": 52,
   "id": "f11f4777-168b-4870-9c50-6483e3149e4d",
   "metadata": {
    "execution": {
     "iopub.execute_input": "2025-05-03T10:30:48.724038Z",
     "iopub.status.busy": "2025-05-03T10:30:48.723754Z",
     "iopub.status.idle": "2025-05-03T10:30:48.730450Z",
     "shell.execute_reply": "2025-05-03T10:30:48.729760Z",
     "shell.execute_reply.started": "2025-05-03T10:30:48.724017Z"
    }
   },
   "outputs": [],
   "source": [
    "class EmailDataset(Dataset):\n",
    "    def __init__(self, texts, labels, tokenizer, max_length=128):\n",
    "        self.texts = texts\n",
    "        self.labels = labels\n",
    "        self.tokenizer = tokenizer\n",
    "        self.max_length = max_length\n",
    "\n",
    "    def __len__(self):\n",
    "        return len(self.texts)\n",
    "\n",
    "    def __getitem__(self, idx):\n",
    "        text = str(self.texts.iloc[idx] if hasattr(self.texts, 'iloc') else self.texts[idx])\n",
    "        label = self.labels.iloc[idx] if hasattr(self.labels, 'iloc') else self.labels[idx]\n",
    "\n",
    "        encoding = self.tokenizer.encode_plus(\n",
    "            text,\n",
    "            add_special_tokens=True,\n",
    "            max_length=self.max_length,\n",
    "            return_token_type_ids=False,\n",
    "            padding='max_length',\n",
    "            truncation=True,\n",
    "            return_attention_mask=True,\n",
    "            return_tensors='pt',\n",
    "        )\n",
    "\n",
    "        return {\n",
    "            'input_ids': encoding['input_ids'].flatten(),\n",
    "            'attention_mask': encoding['attention_mask'].flatten(),\n",
    "            'labels': torch.tensor(label, dtype=torch.long)\n",
    "        }\n"
   ]
  },
  {
   "cell_type": "markdown",
   "id": "9a49f4a2-952c-4ad6-ad91-cf2918535c45",
   "metadata": {},
   "source": [
    "# Load pre-trained BERT tokenizer and model\n"
   ]
  },
  {
   "cell_type": "code",
   "execution_count": 53,
   "id": "7455f80c-9475-4cd8-a616-c9f014b46b30",
   "metadata": {
    "execution": {
     "iopub.execute_input": "2025-05-03T10:31:41.055404Z",
     "iopub.status.busy": "2025-05-03T10:31:41.054912Z",
     "iopub.status.idle": "2025-05-03T10:31:41.708307Z",
     "shell.execute_reply": "2025-05-03T10:31:41.707584Z",
     "shell.execute_reply.started": "2025-05-03T10:31:41.055379Z"
    }
   },
   "outputs": [
    {
     "name": "stdout",
     "output_type": "stream",
     "text": [
      "\n",
      "Loading BERT tokenizer and model...\n"
     ]
    },
    {
     "name": "stderr",
     "output_type": "stream",
     "text": [
      "Some weights of BertForSequenceClassification were not initialized from the model checkpoint at bert-base-uncased and are newly initialized: ['classifier.bias', 'classifier.weight']\n",
      "You should probably TRAIN this model on a down-stream task to be able to use it for predictions and inference.\n"
     ]
    },
    {
     "name": "stdout",
     "output_type": "stream",
     "text": [
      "\n",
      "Class weights: Ham=0.5723, Spam=3.9579\n"
     ]
    }
   ],
   "source": [
    "print(\"\\nLoading BERT tokenizer and model...\")\n",
    "tokenizer = BertTokenizer.from_pretrained('bert-base-uncased')\n",
    "model = BertForSequenceClassification.from_pretrained('bert-base-uncased', num_labels=2)\n",
    "\n",
    "# Create datasets and dataloaders\n",
    "train_dataset = EmailDataset(X_train, y_train, tokenizer)\n",
    "test_dataset = EmailDataset(X_test, y_test, tokenizer)\n",
    "\n",
    "# Define dataloaders - handle class imbalance through class weights in loss function\n",
    "batch_size = 16\n",
    "\n",
    "# Calculate class weights for imbalanced data\n",
    "num_ham = class_counts[0]\n",
    "num_spam = class_counts[1]\n",
    "total = num_ham + num_spam\n",
    "weight_for_0 = (1 / num_ham) * (total / 2.0)\n",
    "weight_for_1 = (1 / num_spam) * (total / 2.0)\n",
    "\n",
    "class_weights = torch.FloatTensor([weight_for_0, weight_for_1])\n",
    "print(f\"\\nClass weights: Ham={weight_for_0:.4f}, Spam={weight_for_1:.4f}\")\n",
    "\n",
    "# Create dataloaders\n",
    "train_dataloader = DataLoader(\n",
    "    train_dataset,\n",
    "    batch_size=batch_size,\n",
    "    shuffle=True\n",
    ")\n",
    "\n",
    "test_dataloader = DataLoader(\n",
    "    test_dataset,\n",
    "    batch_size=batch_size,\n",
    "    shuffle=False\n",
    ")"
   ]
  },
  {
   "cell_type": "markdown",
   "id": "af0e91af-8435-440a-a65a-1298a2b383e2",
   "metadata": {},
   "source": [
    "# Training \n"
   ]
  },
  {
   "cell_type": "code",
   "execution_count": 54,
   "id": "579fdefb-bff6-41f0-819d-9c82696e5396",
   "metadata": {
    "execution": {
     "iopub.execute_input": "2025-05-03T10:36:43.890142Z",
     "iopub.status.busy": "2025-05-03T10:36:43.889402Z",
     "iopub.status.idle": "2025-05-03T10:36:44.058951Z",
     "shell.execute_reply": "2025-05-03T10:36:44.058207Z",
     "shell.execute_reply.started": "2025-05-03T10:36:43.890117Z"
    }
   },
   "outputs": [
    {
     "name": "stdout",
     "output_type": "stream",
     "text": [
      "Using device: cuda\n"
     ]
    }
   ],
   "source": [
    "device = torch.device(\"cuda\" if torch.cuda.is_available() else \"cpu\")\n",
    "print(f\"Using device: {device}\")\n",
    "model.to(device)\n",
    "class_weights = class_weights.to(device)\n",
    "\n",
    "optimizer = AdamW(model.parameters(), lr=2e-5)\n",
    "epochs = 3\n",
    "total_steps = len(train_dataloader) * epochs\n",
    "scheduler = get_linear_schedule_with_warmup(\n",
    "    optimizer,\n",
    "    num_warmup_steps=0,\n",
    "    num_training_steps=total_steps\n",
    ")\n",
    "\n",
    "# Define loss function with class weights to balancing the classes\n",
    "loss_fn = torch.nn.CrossEntropyLoss(weight=class_weights)"
   ]
  },
  {
   "cell_type": "code",
   "execution_count": 55,
   "id": "c85c5932-f850-4e1b-892e-dac326c490b1",
   "metadata": {
    "execution": {
     "iopub.execute_input": "2025-05-03T10:36:46.305974Z",
     "iopub.status.busy": "2025-05-03T10:36:46.305713Z",
     "iopub.status.idle": "2025-05-03T10:42:09.327551Z",
     "shell.execute_reply": "2025-05-03T10:42:09.326849Z",
     "shell.execute_reply.started": "2025-05-03T10:36:46.305958Z"
    }
   },
   "outputs": [
    {
     "name": "stdout",
     "output_type": "stream",
     "text": [
      "\n",
      "Training the model...\n",
      "\n",
      "Epoch 1/3\n",
      "----------\n",
      "Average training loss: 0.1567\n",
      "Validation Accuracy: 0.9913\n",
      "\n",
      "Epoch 2/3\n",
      "----------\n",
      "Average training loss: 0.0583\n",
      "Validation Accuracy: 0.9913\n",
      "\n",
      "Epoch 3/3\n",
      "----------\n",
      "Average training loss: 0.0235\n",
      "Validation Accuracy: 0.9923\n"
     ]
    }
   ],
   "source": [
    "# Training loop\n",
    "print(\"\\nTraining the model...\")\n",
    "for epoch in range(epochs):\n",
    "    print(f\"\\nEpoch {epoch + 1}/{epochs}\")\n",
    "    print('-' * 10)\n",
    "    \n",
    "    # Training\n",
    "    model.train()\n",
    "    total_train_loss = 0\n",
    "    \n",
    "    for batch in train_dataloader:\n",
    "        input_ids = batch['input_ids'].to(device)\n",
    "        attention_mask = batch['attention_mask'].to(device)\n",
    "        labels = batch['labels'].to(device)\n",
    "        \n",
    "        model.zero_grad()\n",
    "        \n",
    "        outputs = model(\n",
    "            input_ids=input_ids,\n",
    "            attention_mask=attention_mask\n",
    "        )\n",
    "        \n",
    "        logits = outputs.logits\n",
    "        loss = loss_fn(logits, labels)\n",
    "        \n",
    "        total_train_loss += loss.item()\n",
    "        \n",
    "        loss.backward()\n",
    "        torch.nn.utils.clip_grad_norm_(model.parameters(), 1.0)\n",
    "        \n",
    "        optimizer.step()\n",
    "        scheduler.step()\n",
    "    \n",
    "    avg_train_loss = total_train_loss / len(train_dataloader)\n",
    "    print(f\"Average training loss: {avg_train_loss:.4f}\")\n",
    "    \n",
    "    # Evaluation during training\n",
    "    model.eval()\n",
    "    val_predictions = []\n",
    "    val_true_labels = []\n",
    "    \n",
    "    for batch in test_dataloader:\n",
    "        input_ids = batch['input_ids'].to(device)\n",
    "        attention_mask = batch['attention_mask'].to(device)\n",
    "        labels = batch['labels'].to(device)\n",
    "        \n",
    "        with torch.no_grad():\n",
    "            outputs = model(\n",
    "                input_ids=input_ids,\n",
    "                attention_mask=attention_mask\n",
    "            )\n",
    "        \n",
    "        logits = outputs.logits\n",
    "        _, preds = torch.max(logits, dim=1)\n",
    "        \n",
    "        val_predictions.extend(preds.cpu().tolist())\n",
    "        val_true_labels.extend(labels.cpu().tolist())\n",
    "    \n",
    "    # Print evaluation metrics\n",
    "    val_accuracy = accuracy_score(val_true_labels, val_predictions)\n",
    "    print(f\"Validation Accuracy: {val_accuracy:.4f}\")\n",
    "\n"
   ]
  },
  {
   "cell_type": "markdown",
   "id": "9f48fa16-c59d-4dc7-9386-03d91e6bf93f",
   "metadata": {},
   "source": [
    "# Evaluation"
   ]
  },
  {
   "cell_type": "code",
   "execution_count": 56,
   "id": "bb87de5d-f033-408f-ab3c-c696c8510ac3",
   "metadata": {
    "execution": {
     "iopub.execute_input": "2025-05-03T10:42:09.329142Z",
     "iopub.status.busy": "2025-05-03T10:42:09.328928Z",
     "iopub.status.idle": "2025-05-03T10:42:18.449067Z",
     "shell.execute_reply": "2025-05-03T10:42:18.448269Z",
     "shell.execute_reply.started": "2025-05-03T10:42:09.329126Z"
    }
   },
   "outputs": [
    {
     "name": "stdout",
     "output_type": "stream",
     "text": [
      "\n",
      "Final Evaluation on Test Set...\n",
      "Test Accuracy: 0.9923\n",
      "\n",
      "Classification Report:\n",
      "              precision    recall  f1-score   support\n",
      "\n",
      "         Ham       0.99      1.00      1.00       903\n",
      "        Spam       0.99      0.95      0.97       131\n",
      "\n",
      "    accuracy                           0.99      1034\n",
      "   macro avg       0.99      0.97      0.98      1034\n",
      "weighted avg       0.99      0.99      0.99      1034\n",
      "\n"
     ]
    },
    {
     "data": {
      "image/png": "[encoded data removed]",
      "text/plain": [
       "<Figure size 800x600 with 2 Axes>"
      ]
     },
     "metadata": {},
     "output_type": "display_data"
    }
   ],
   "source": [
    "print(\"\\nFinal Evaluation on Test Set...\")\n",
    "model.eval()\n",
    "predictions = []\n",
    "true_labels = []\n",
    "\n",
    "with torch.no_grad():\n",
    "    for batch in test_dataloader:\n",
    "        input_ids = batch['input_ids'].to(device)\n",
    "        attention_mask = batch['attention_mask'].to(device)\n",
    "        labels = batch['labels'].to(device)\n",
    "        \n",
    "        outputs = model(\n",
    "            input_ids=input_ids,\n",
    "            attention_mask=attention_mask\n",
    "        )\n",
    "        \n",
    "        logits = outputs.logits\n",
    "        _, preds = torch.max(logits, dim=1)\n",
    "        \n",
    "        predictions.extend(preds.cpu().tolist())\n",
    "        true_labels.extend(labels.cpu().tolist())\n",
    "\n",
    "# Calculate metrics\n",
    "accuracy = accuracy_score(true_labels, predictions)\n",
    "print(f\"Test Accuracy: {accuracy:.4f}\")\n",
    "\n",
    "print(\"\\nClassification Report:\")\n",
    "print(classification_report(true_labels, predictions, target_names=['Ham', 'Spam']))\n",
    "\n",
    "# Confusion Matrix\n",
    "conf_matrix = confusion_matrix(true_labels, predictions)\n",
    "plt.figure(figsize=(8, 6))\n",
    "sns.heatmap(conf_matrix, annot=True, fmt='d', cmap='Blues', \n",
    "            xticklabels=['Ham', 'Spam'], \n",
    "            yticklabels=['Ham', 'Spam'])\n",
    "plt.xlabel('Predicted')\n",
    "plt.ylabel('Actual')\n",
    "plt.title('Confusion Matrix')\n",
    "plt.show()"
   ]
  },
  {
   "cell_type": "markdown",
   "id": "13a58799-1d11-4413-b840-0d6a0d6e7f63",
   "metadata": {},
   "source": [
    "# Test with new data"
   ]
  },
  {
   "cell_type": "code",
   "execution_count": 57,
   "id": "9880c702-51d0-4a8f-9c6e-e50e6d3c27d1",
   "metadata": {
    "execution": {
     "iopub.execute_input": "2025-05-03T10:42:18.450546Z",
     "iopub.status.busy": "2025-05-03T10:42:18.449860Z",
     "iopub.status.idle": "2025-05-03T10:42:18.512896Z",
     "shell.execute_reply": "2025-05-03T10:42:18.512242Z",
     "shell.execute_reply.started": "2025-05-03T10:42:18.450518Z"
    }
   },
   "outputs": [
    {
     "name": "stdout",
     "output_type": "stream",
     "text": [
      "\n",
      "Example prediction:\n",
      "Email: Congratulations! You've won a free vacation to the Bahamas. Click here to claim your prize now!\n",
      "Prediction: Spam with confidence 0.9986\n",
      "\n",
      "Email: Hi John, I'm sending you the meeting notes from yesterday. Please review them before Friday's call.\n",
      "Prediction: Ham with confidence 0.9925\n"
     ]
    }
   ],
   "source": [
    "# Function to make predictions on new emails\n",
    "def predict_spam(email_text, model, tokenizer, device):\n",
    "    model.eval()\n",
    "    encoding = tokenizer.encode_plus(\n",
    "        email_text,\n",
    "        add_special_tokens=True,\n",
    "        max_length=512,\n",
    "        return_token_type_ids=False,\n",
    "        padding='max_length',\n",
    "        truncation=True,\n",
    "        return_attention_mask=True,\n",
    "        return_tensors='pt',\n",
    "    )\n",
    "    \n",
    "    input_ids = encoding['input_ids'].to(device)\n",
    "    attention_mask = encoding['attention_mask'].to(device)\n",
    "    \n",
    "    with torch.no_grad():\n",
    "        outputs = model(input_ids=input_ids, attention_mask=attention_mask)\n",
    "        logits = outputs.logits\n",
    "        probs = torch.nn.functional.softmax(logits, dim=1)\n",
    "        _, preds = torch.max(logits, dim=1)\n",
    "    \n",
    "    return {\n",
    "        'prediction': 'Spam' if preds.item() == 1 else 'Ham',\n",
    "        'confidence': probs[0][preds.item()].item()\n",
    "    }\n",
    "\n",
    "# Example usage\n",
    "example_email = \"Congratulations! You've won a free vacation to the Bahamas. Click here to claim your prize now!\"\n",
    "result = predict_spam(example_email, model, tokenizer, device)\n",
    "print(\"\\nExample prediction:\")\n",
    "print(f\"Email: {example_email}\")\n",
    "print(f\"Prediction: {result['prediction']} with confidence {result['confidence']:.4f}\")\n",
    "\n",
    "# Another example\n",
    "example_email2 = \"Hi John, I'm sending you the meeting notes from yesterday. Please review them before Friday's call.\"\n",
    "result2 = predict_spam(example_email2, model, tokenizer, device)\n",
    "print(f\"\\nEmail: {example_email2}\")\n",
    "print(f\"Prediction: {result2['prediction']} with confidence {result2['confidence']:.4f}\")"
   ]
  },
  {
   "cell_type": "markdown",
   "id": "f2d4b54c-c211-451e-abab-c3b47ed7bfa8",
   "metadata": {},
   "source": [
    "# Save the model"
   ]
  },
  {
   "cell_type": "code",
   "execution_count": 58,
   "id": "d031e323-c7f4-4bd6-8198-ba3fb96f2097",
   "metadata": {
    "execution": {
     "iopub.execute_input": "2025-05-03T10:42:47.199611Z",
     "iopub.status.busy": "2025-05-03T10:42:47.198903Z",
     "iopub.status.idle": "2025-05-03T10:42:48.691003Z",
     "shell.execute_reply": "2025-05-03T10:42:48.690247Z",
     "shell.execute_reply.started": "2025-05-03T10:42:47.199587Z"
    }
   },
   "outputs": [
    {
     "name": "stdout",
     "output_type": "stream",
     "text": [
      "\n",
      "Model saved to email_spam_transformer_model\n"
     ]
    }
   ],
   "source": [
    "model_save_path = 'email_spam_transformer_model'\n",
    "model.save_pretrained(model_save_path)\n",
    "tokenizer.save_pretrained(model_save_path)\n",
    "print(f\"\\nModel saved to {model_save_path}\")"
   ]
  },
  {
   "cell_type": "code",
   "execution_count": 59,
   "id": "78e3cc94-becd-4030-a0b4-5ba9471add06",
   "metadata": {
    "execution": {
     "iopub.execute_input": "2025-05-03T10:43:05.792614Z",
     "iopub.status.busy": "2025-05-03T10:43:05.792072Z",
     "iopub.status.idle": "2025-05-03T10:43:27.665351Z",
     "shell.execute_reply": "2025-05-03T10:43:27.664718Z",
     "shell.execute_reply.started": "2025-05-03T10:43:05.792590Z"
    }
   },
   "outputs": [
    {
     "data": {
      "text/plain": [
       "'/kaggle/working/email_spam_model.zip'"
      ]
     },
     "execution_count": 59,
     "metadata": {},
     "output_type": "execute_result"
    }
   ],
   "source": [
    "import shutil\n",
    "shutil.make_archive('email_spam_model', 'zip', model_save_path)"
   ]
  }
 ],
 "metadata": {
  "kaggle": {
   "accelerator": "nvidiaTeslaT4",
   "dataSources": [
    {
     "datasetId": 7312809,
     "sourceId": 11652648,
     "sourceType": "datasetVersion"
    }
   ],
   "dockerImageVersionId": 31011,
   "isGpuEnabled": true,
   "isInternetEnabled": true,
   "language": "python",
   "sourceType": "notebook"
  },
  "kernelspec": {
   "display_name": "Python 3 (ipykernel)",
   "language": "python",
   "name": "python3"
  },
  "language_info": {
   "codemirror_mode": {
    "name": "ipython",
    "version": 3
   },
   "file_extension": ".py",
   "mimetype": "text/x-python",
   "name": "python",
   "nbconvert_exporter": "python",
   "pygments_lexer": "ipython3",
   "version": "3.12.3"
  }
 },
 "nbformat": 4,
 "nbformat_minor": 5
}
